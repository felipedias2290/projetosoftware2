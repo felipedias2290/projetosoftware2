{
  "cells": [
    {
      "cell_type": "markdown",
      "metadata": {
        "id": "view-in-github",
        "colab_type": "text"
      },
      "source": [
        "<a href=\"https://colab.research.google.com/github/felipedias2290/projetosoftware2/blob/main/quickstarts/Get_started.ipynb\" target=\"_parent\"><img src=\"https://colab.research.google.com/assets/colab-badge.svg\" alt=\"Open In Colab\"/></a>"
      ]
    },
    {
      "cell_type": "markdown",
      "source": [
        "# Nova ordem"
      ],
      "metadata": {
        "id": "rFIhQp7u64Vf"
      }
    },
    {
      "cell_type": "markdown",
      "source": [],
      "metadata": {
        "id": "tXMCNL9ry5uN"
      }
    },
    {
      "cell_type": "code",
      "source": [
        "print(\"bem vindo a classificação de filmes\")\n",
        "print('nos avalie para melhorar nosso serviço')\n",
        "print('lembrando que 0 é RECUSAR a avaliação!!')\n",
        "avaliacao = int(input('digte sua avaliação de 1 à 10: '))\n",
        "if avaliacao <= 3:\n",
        "  print('obrigado pela sua opnião, prometemos que iremos melhorar.')\n",
        "if avaliacao >=4:\n",
        "  print('foi muito bom ter você conosco, te esperamos até uma proxima vez')\n",
        "elif avaliacao == 0:\n",
        "  print('voce optou por não nòs avaliar, obrigado pela preferencia!')\n"
      ],
      "metadata": {
        "id": "wOTWDxyqzF13",
        "outputId": "d59e00cb-4a3f-4442-925d-2aa3e7773536",
        "colab": {
          "base_uri": "https://localhost:8080/"
        }
      },
      "execution_count": 19,
      "outputs": [
        {
          "output_type": "stream",
          "name": "stdout",
          "text": [
            "bem vindo a classificação de filmes\n",
            "nos avalie para melhorar nosso serviço\n",
            "lembrando que 0 é RECUSAR a avaliação!!\n",
            "digte sua avaliação de 1 à 10: 8\n",
            "foi muito bom ter você conosco, te esperamos até uma proxima vez\n"
          ]
        }
      ]
    },
    {
      "cell_type": "markdown",
      "source": [
        "# Aula 2\n",
        "\n",
        "\n",
        "\n"
      ],
      "metadata": {
        "id": "xWZMSBqQyrgR"
      }
    },
    {
      "cell_type": "code",
      "source": [
        "\n",
        "nome = input(\"digite seu nome  \")\n",
        "print('ola,'+nome)\n",
        "print('seja bem vindo')\n",
        "nota = int(input('digite sua nota: '))\n",
        "if nota < 5:\n",
        "  print('voce nao passou, estude mais')\n",
        "elif nota >=5 and nota <7:\n",
        "    print('voce passou')\n",
        "else:\n",
        "  print('voce é foda, passou acima da media')"
      ],
      "metadata": {
        "id": "toYKeOOO66_n"
      },
      "execution_count": null,
      "outputs": []
    }
  ],
  "metadata": {
    "colab": {
      "name": "Get_started.ipynb",
      "toc_visible": true,
      "provenance": [],
      "include_colab_link": true
    },
    "kernelspec": {
      "display_name": "Python 3",
      "name": "python3"
    }
  },
  "nbformat": 4,
  "nbformat_minor": 0
}