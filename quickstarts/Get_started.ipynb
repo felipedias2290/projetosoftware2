{
  "cells": [
    {
      "cell_type": "markdown",
      "metadata": {
        "id": "view-in-github",
        "colab_type": "text"
      },
      "source": [
        "<a href=\"https://colab.research.google.com/github/felipedias2290/projetosoftware2/blob/main/quickstarts/Get_started.ipynb\" target=\"_parent\"><img src=\"https://colab.research.google.com/assets/colab-badge.svg\" alt=\"Open In Colab\"/></a>"
      ]
    },
    {
      "cell_type": "markdown",
      "source": [
        "# Nova ordem"
      ],
      "metadata": {
        "id": "rFIhQp7u64Vf"
      }
    },
    {
      "cell_type": "code",
      "source": [
        "\n",
        "nome = input(\"digite seu nome  \")\n",
        "print('ola,'+nome)\n",
        "print('seja bem vindo')\n",
        "nota = int(input('digite sua nota: '))\n",
        "if nota < 5:\n",
        "  print('voce nao passou, estude mais')\n",
        "elif nota >=5 and nota <7:\n",
        "    print('voce passou')\n",
        "else:\n",
        "  print('voce é foda, passou acima da media')"
      ],
      "metadata": {
        "colab": {
          "base_uri": "https://localhost:8080/"
        },
        "id": "toYKeOOO66_n",
        "outputId": "81ec3310-5318-4cba-d068-6835c2e0d9d8"
      },
      "execution_count": 70,
      "outputs": [
        {
          "output_type": "stream",
          "name": "stdout",
          "text": [
            "digite seu nome  Felipe\n",
            "ola,Felipe\n",
            "seja bem vindo\n",
            "digite sua nota: 6\n",
            "voce passou\n"
          ]
        }
      ]
    }
  ],
  "metadata": {
    "colab": {
      "name": "Get_started.ipynb",
      "toc_visible": true,
      "provenance": [],
      "include_colab_link": true
    },
    "kernelspec": {
      "display_name": "Python 3",
      "name": "python3"
    }
  },
  "nbformat": 4,
  "nbformat_minor": 0
}